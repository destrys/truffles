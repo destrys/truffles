{
 "metadata": {
  "name": "loadingAndSporeDev"
 }, 
 "nbformat": 2, 
 "worksheets": [
  {
   "cells": [
    {
     "cell_type": "markdown", 
     "source": [
      "#trufflesPy: A 3D machine-vision source finder"
     ]
    }, 
    {
     "cell_type": "markdown", 
     "source": [
      "Learning to import FITS files..."
     ]
    }, 
    {
     "cell_type": "code", 
     "collapsed": true, 
     "input": [
      "from astropy.io import fits"
     ], 
     "language": "python", 
     "outputs": [], 
     "prompt_number": 5
    }, 
    {
     "cell_type": "code", 
     "collapsed": false, 
     "input": [
      "hdulist = fits.open('/Users/destry/Documents/Github/truffles_examples/GALFA_HI_RA+DEC_092.00+10.35_W.fits')"
     ], 
     "language": "python", 
     "outputs": [], 
     "prompt_number": 30
    }, 
    {
     "cell_type": "markdown", 
     "source": [
      "(You'll need to change the path above to a FITS file you have. GALFA cubes are downloadable at [purcell.ssl.berekely.edu](http://purcell.ssl.berkeley.edu)", 
      "I should post the example cube on S3 or dropbox or something. Remind me if it still isn't somehwere...)"
     ]
    }, 
    {
     "cell_type": "code", 
     "collapsed": false, 
     "input": [
      "hdulist.info()"
     ], 
     "language": "python", 
     "outputs": [], 
     "prompt_number": 7
    }, 
    {
     "cell_type": "code", 
     "collapsed": false, 
     "input": [
      "hdulist[0].header"
     ], 
     "language": "python", 
     "outputs": [], 
     "prompt_number": 31
    }, 
    {
     "cell_type": "code", 
     "collapsed": true, 
     "input": [
      "cube = hdulist[0].data"
     ], 
     "language": "python", 
     "outputs": [], 
     "prompt_number": 20
    }, 
    {
     "cell_type": "markdown", 
     "source": [
      "Testing that the FITS scaling was applied, and that BSCALE and BZERO have been removed from the header."
     ]
    }, 
    {
     "cell_type": "code", 
     "collapsed": false, 
     "input": [
      "print hdulist[0].header['bscale'],hdulist[0].header['bzero']"
     ], 
     "language": "python", 
     "outputs": [], 
     "prompt_number": 34
    }, 
    {
     "cell_type": "markdown", 
     "source": [
      "begin"
     ]
    }
   ]
  }
 ]
}